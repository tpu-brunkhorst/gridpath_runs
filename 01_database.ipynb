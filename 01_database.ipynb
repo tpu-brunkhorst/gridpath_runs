{
 "cells": [
  {
   "cell_type": "markdown",
   "metadata": {},
   "source": [
    "# GridPath Trial"
   ]
  },
  {
   "cell_type": "code",
   "execution_count": 23,
   "metadata": {},
   "outputs": [],
   "source": [
    "import gridpath as gp"
   ]
  },
  {
   "cell_type": "markdown",
   "metadata": {},
   "source": [
    "## Create a local database"
   ]
  },
  {
   "cell_type": "code",
   "execution_count": 24,
   "metadata": {},
   "outputs": [
    {
     "data": {
      "text/plain": [
       "'C:/Users/Gbrunkhorst/OneDrive - City of Tacoma/Documents/Code/gridpath/gridpath.db'"
      ]
     },
     "execution_count": 24,
     "metadata": {},
     "output_type": "execute_result"
    }
   ],
   "source": [
    "path = \"C:/Users/Gbrunkhorst/OneDrive - City of Tacoma/Documents/Code/gridpath/\"\n",
    "db_name = \"gridpath.db\"\n",
    "db_path = path + db_name"
   ]
  },
  {
   "cell_type": "code",
   "execution_count": 25,
   "metadata": {},
   "outputs": [
    {
     "name": "stdout",
     "output_type": "stream",
     "text": [
      "WARNING: The database file C:\\Users\\Gbrunkhorst\\OneDrive - City of Tacoma\\Documents\\Code\\gridpath\\gridpath.db already exists. Please \n",
      "                delete it before re-creating the database\n"
     ]
    }
   ],
   "source": [
    "!gridpath_create_database --database \"{db_path}\""
   ]
  },
  {
   "cell_type": "markdown",
   "metadata": {},
   "source": [
    "## Link the csvs to the database. "
   ]
  },
  {
   "cell_type": "code",
   "execution_count": 26,
   "metadata": {},
   "outputs": [
    {
     "name": "stdout",
     "output_type": "stream",
     "text": [
      "usage: gridpath_load_csvs [-h] [--database DATABASE]\n",
      "                          [--csv_location CSV_LOCATION]\n",
      "                          [--subscenario SUBSCENARIO]\n",
      "                          [--subscenario_id SUBSCENARIO_ID]\n",
      "                          [--project PROJECT] [--delete] [--quiet]\n",
      "\n",
      "options:\n",
      "  -h, --help            show this help message and exit\n",
      "  --database DATABASE   The database file path relative to the current working\n",
      "                        directory. Defaults to ./io.db\n",
      "  --csv_location CSV_LOCATION\n",
      "                        Path to the csvs folder including folder name relative\n",
      "                        to the current working directory.\n",
      "  --subscenario SUBSCENARIO\n",
      "                        The subscenario to load. The script will look for the\n",
      "                        directory where data for the subscenario are located\n",
      "                        based on the csv_structure file and will load all\n",
      "                        subscenario IDs located there.\n",
      "  --subscenario_id SUBSCENARIO_ID\n",
      "                        The subscenario ID to load. The '--subscenario'\n",
      "                        argument must also be specified. The script will look\n",
      "                        for the directory where data for the subscenario are\n",
      "                        located based on the csv_structure file and will load\n",
      "                        the data for this subscenario ID.\n",
      "  --project PROJECT     The project for which to load data. The '--\n",
      "                        subscenario' and '--subscenario_id' arguments must\n",
      "                        also be specified, and this must be a project-level\n",
      "                        subscenario. The script will look for the directory\n",
      "                        where data for the subscenario are located based on\n",
      "                        the csv_structure file and will load the data for this\n",
      "                        project and subscenario ID.\n",
      "  --delete              Delete prior data. Defaults to False.\n",
      "  --quiet               Don't print output. Defaults to False.\n"
     ]
    }
   ],
   "source": [
    "!gridpath_load_csvs --help"
   ]
  },
  {
   "cell_type": "code",
   "execution_count": 40,
   "metadata": {},
   "outputs": [
    {
     "name": "stdout",
     "output_type": "stream",
     "text": [
      "Importing data for subscenario solver_options_id, table options_solver from csvs_test_examples\\solver...\n",
      "...importing CSV 1_cbc.csv\n",
      "   ...importing data from 1_cbc.csv\n"
     ]
    },
    {
     "name": "stderr",
     "output_type": "stream",
     "text": [
      "Traceback (most recent call last):\n",
      "  File \"C:\\Users\\Gbrunkhorst\\Anaconda3\\envs\\gridpath\\lib\\runpy.py\", line 196, in _run_module_as_main\n",
      "    return _run_code(code, main_globals, None,\n",
      "  File \"C:\\Users\\Gbrunkhorst\\Anaconda3\\envs\\gridpath\\lib\\runpy.py\", line 86, in _run_code\n",
      "    exec(code, run_globals)\n",
      "  File \"C:\\Users\\Gbrunkhorst\\Anaconda3\\envs\\GRIDPATH\\Scripts\\gridpath_load_csvs.exe\\__main__.py\", line 7, in <module>\n",
      "  File \"C:\\Users\\Gbrunkhorst\\Anaconda3\\envs\\gridpath\\lib\\site-packages\\db\\utilities\\port_csvs_to_db.py\", line 434, in main\n",
      "    load_all_from_csv_structure(\n",
      "  File \"C:\\Users\\Gbrunkhorst\\Anaconda3\\envs\\gridpath\\lib\\site-packages\\db\\utilities\\port_csvs_to_db.py\", line 191, in load_all_from_csv_structure\n",
      "    load_all_subscenario_ids_from_dir_to_subscenario_table(\n",
      "  File \"C:\\Users\\Gbrunkhorst\\Anaconda3\\envs\\gridpath\\lib\\site-packages\\db\\utilities\\common_functions.py\", line 1073, in load_all_subscenario_ids_from_dir_to_subscenario_table\n",
      "    read_all_csv_subscenarios_from_dir_and_insert_into_db(\n",
      "  File \"C:\\Users\\Gbrunkhorst\\Anaconda3\\envs\\gridpath\\lib\\site-packages\\db\\utilities\\common_functions.py\", line 328, in read_all_csv_subscenarios_from_dir_and_insert_into_db\n",
      "    get_subscenario_data_and_insert_into_db(\n",
      "  File \"C:\\Users\\Gbrunkhorst\\Anaconda3\\envs\\gridpath\\lib\\site-packages\\db\\utilities\\common_functions.py\", line 265, in get_subscenario_data_and_insert_into_db\n",
      "    generic_insert_subscenario(\n",
      "  File \"C:\\Users\\Gbrunkhorst\\Anaconda3\\envs\\gridpath\\lib\\site-packages\\db\\utilities\\common_functions.py\", line 505, in generic_insert_subscenario\n",
      "    generic_insert_subscenario_info(\n",
      "  File \"C:\\Users\\Gbrunkhorst\\Anaconda3\\envs\\gridpath\\lib\\site-packages\\db\\utilities\\common_functions.py\", line 968, in generic_insert_subscenario_info\n",
      "    spin_on_database_lock(conn=conn, cursor=c, sql=subs_sql, data=subscenario_data)\n",
      "  File \"C:\\Users\\Gbrunkhorst\\Anaconda3\\envs\\gridpath\\lib\\site-packages\\db\\common_functions.py\", line 83, in spin_on_database_lock\n",
      "    cursor.executemany(sql, data)\n",
      "sqlite3.IntegrityError: UNIQUE constraint failed: subscenarios_options_solver.solver_options_id\n"
     ]
    }
   ],
   "source": [
    "!gridpath_load_csvs --database \"{db_path}\" --csv_location csvs_test_examples"
   ]
  },
  {
   "cell_type": "markdown",
   "metadata": {},
   "source": [
    "# "
   ]
  },
  {
   "cell_type": "markdown",
   "metadata": {},
   "source": [
    "# Run"
   ]
  },
  {
   "cell_type": "code",
   "execution_count": 35,
   "metadata": {},
   "outputs": [
    {
     "name": "stdout",
     "output_type": "stream",
     "text": [
      "usage: gridpath_run_e2e [-h] [--database DATABASE] [--scenario_id SCENARIO_ID]\n",
      "                        [--scenario SCENARIO]\n",
      "                        [--scenario_location SCENARIO_LOCATION] [--quiet]\n",
      "                        [--verbose] [--log] [--create_lp_problem_file_only]\n",
      "                        [--load_cplex_solution] [--load_gurobi_solution]\n",
      "                        [--solver SOLVER]\n",
      "                        [--solver_executable SOLVER_EXECUTABLE]\n",
      "                        [--mute_solver_output]\n",
      "                        [--write_solver_files_to_logs_dir] [--keepfiles]\n",
      "                        [--symbolic] [--testing]\n",
      "                        [--n_parallel_solve N_PARALLEL_SOLVE]\n",
      "                        [--incomplete_only]\n",
      "                        [--results_export_rule RESULTS_EXPORT_RULE]\n",
      "                        [--results_export_summary_rule RESULTS_EXPORT_SUMMARY_RULE]\n",
      "                        [--n_parallel_get_inputs N_PARALLEL_GET_INPUTS]\n",
      "                        [--results_import_rule RESULTS_IMPORT_RULE]\n",
      "                        [--skip_get_inputs] [--skip_run_scenario]\n",
      "                        [--skip_import_results] [--skip_process_results]\n",
      "                        [--single_e2e_step_only {get_inputs,run_scenario,import_results,process_results}]\n",
      "\n",
      "options:\n",
      "  -h, --help            show this help message and exit\n",
      "  --database DATABASE   The database file path relative to the current working\n",
      "                        directory. Defaults to ../db/io.db\n",
      "  --scenario_id SCENARIO_ID\n",
      "                        The scenario_id from the database. Not needed if\n",
      "                        scenario is specified.\n",
      "  --scenario SCENARIO   The scenario_name from the database. Not needed if\n",
      "                        scenario_id is specified.\n",
      "  --scenario_location SCENARIO_LOCATION\n",
      "                        The path to the directory in which to create the\n",
      "                        scenario directory. Defaults to '../scenarios' if not\n",
      "                        specified.\n",
      "  --quiet               Don't print run output.\n",
      "  --verbose             Print extra output, e.g. current module info.\n",
      "  --log                 Log output to a file in the scenario's 'logs'\n",
      "                        directory as well as the terminal.\n",
      "  --create_lp_problem_file_only\n",
      "                        Create and save the problem file, but don't solve yet.\n",
      "  --load_cplex_solution\n",
      "                        Skip solve and load results from a CPLEX solution file\n",
      "                        instead.\n",
      "  --load_gurobi_solution\n",
      "                        Skip solve and load results from a Gurobi solution\n",
      "                        file instead.\n",
      "  --solver SOLVER       Name of the solver to use. GridPath will use Cbc if\n",
      "                        solver is not specified here and a\n",
      "                        'solver_options.csv' file does not exist in the\n",
      "                        scenario directory.\n",
      "  --solver_executable SOLVER_EXECUTABLE\n",
      "                        The path to the solver executable to use. This is\n",
      "                        optional; if you don't specify it, Pyomo will look for\n",
      "                        the solver executable in your PATH. The solver\n",
      "                        specified with the --solver option must be the same as\n",
      "                        the solver for which you are providing an executable.\n",
      "  --mute_solver_output  Don't print solver output.\n",
      "  --write_solver_files_to_logs_dir\n",
      "                        Write the temporary solver files to the logs\n",
      "                        directory.\n",
      "  --keepfiles           Save temporary solver files.\n",
      "  --symbolic            Use symbolic labels in solver files.\n",
      "  --testing             Flag for test suite runs.\n",
      "  --n_parallel_solve N_PARALLEL_SOLVE\n",
      "                        Solve n subproblems in parallel.\n",
      "  --incomplete_only     Solve only incomplete subproblems, i.e. do no re-solve\n",
      "                        if results are found. The subproblem is assumed\n",
      "                        complete if thetermination_condition.txt file is\n",
      "                        found.\n",
      "  --results_export_rule RESULTS_EXPORT_RULE\n",
      "                        The name of the rule to use to decide whether to\n",
      "                        export results.\n",
      "  --results_export_summary_rule RESULTS_EXPORT_SUMMARY_RULE\n",
      "                        The name of the rule to use to decide whether to\n",
      "                        export summary results.\n",
      "  --n_parallel_get_inputs N_PARALLEL_GET_INPUTS\n",
      "                        Get inputs for n subproblems in parallel.\n",
      "  --results_import_rule RESULTS_IMPORT_RULE\n",
      "                        The name of the rule to use to decide whether to\n",
      "                        import results.\n",
      "  --skip_get_inputs     Skip the 'get_scenario_inputs' E2E step.\n",
      "  --skip_run_scenario   Skip the 'run_scenario' E2E step.\n",
      "  --skip_import_results\n",
      "                        Skip the 'import_scenario_results' E2E step.\n",
      "  --skip_process_results\n",
      "                        Skip the 'process_results' E2E step.\n",
      "  --single_e2e_step_only {get_inputs,run_scenario,import_results,process_results}\n",
      "                        Run only the specified E2E step. All others will be\n",
      "                        skipped.\n"
     ]
    }
   ],
   "source": [
    "!gridpath_run_e2e --help"
   ]
  },
  {
   "cell_type": "code",
   "execution_count": 42,
   "metadata": {},
   "outputs": [
    {
     "name": "stderr",
     "output_type": "stream",
     "text": [
      "Traceback (most recent call last):\n",
      "  File \"C:\\Users\\Gbrunkhorst\\Anaconda3\\envs\\gridpath\\lib\\runpy.py\", line 196, in _run_module_as_main\n",
      "    return _run_code(code, main_globals, None,\n",
      "  File \"C:\\Users\\Gbrunkhorst\\Anaconda3\\envs\\gridpath\\lib\\runpy.py\", line 86, in _run_code\n",
      "    exec(code, run_globals)\n",
      "  File \"C:\\Users\\Gbrunkhorst\\Anaconda3\\envs\\GRIDPATH\\Scripts\\gridpath_run_e2e.exe\\__main__.py\", line 7, in <module>\n",
      "  File \"C:\\Users\\Gbrunkhorst\\Anaconda3\\envs\\gridpath\\lib\\site-packages\\gridpath\\run_end_to_end.py\", line 313, in main\n",
      "    scenario_id, scenario = get_scenario_id_and_name(\n",
      "  File \"C:\\Users\\Gbrunkhorst\\Anaconda3\\envs\\gridpath\\lib\\site-packages\\gridpath\\auxiliary\\db_interface.py\", line 103, in get_scenario_id_and_name\n",
      "    raise ValueError(\n",
      "ValueError: ERROR: No matching scenario found for scenario_name '2periods_new_build'\n"
     ]
    }
   ],
   "source": [
    "!gridpath_run_e2e --database \"{db_path}\" --scenario 2periods_new_build --scenario_location 2periods_new_build\n"
   ]
  },
  {
   "cell_type": "code",
   "execution_count": null,
   "metadata": {},
   "outputs": [],
   "source": []
  },
  {
   "cell_type": "code",
   "execution_count": null,
   "metadata": {},
   "outputs": [],
   "source": []
  },
  {
   "cell_type": "code",
   "execution_count": null,
   "metadata": {},
   "outputs": [],
   "source": []
  }
 ],
 "metadata": {
  "kernelspec": {
   "display_name": "gridpath",
   "language": "python",
   "name": "python3"
  },
  "language_info": {
   "codemirror_mode": {
    "name": "ipython",
    "version": 3
   },
   "file_extension": ".py",
   "mimetype": "text/x-python",
   "name": "python",
   "nbconvert_exporter": "python",
   "pygments_lexer": "ipython3",
   "version": "3.10.14"
  }
 },
 "nbformat": 4,
 "nbformat_minor": 2
}
